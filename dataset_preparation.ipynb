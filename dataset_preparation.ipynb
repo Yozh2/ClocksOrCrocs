{
 "cells": [
  {
   "cell_type": "markdown",
   "metadata": {
    "colab_type": "text",
    "id": "1Bq2R2ToDA8Y"
   },
   "source": [
    "# Подготовка данных для распознавания крокодилов и часов на изображениях\n",
    "\n",
    "**Источник данных** - [Архив с изображениями](https://drive.google.com/file/d/1JbYmH50iRkMorFk0xNCnwC9xKiB60Mlq/view?usp=sharing), полученный по почте.\n",
    "\n",
    "Данные разбиваются на три каталога:\n",
    "- train (данные для обучения)\n",
    "- val (данные для проверки)\n",
    "- test (данные для тестирования)\n",
    "\n",
    "В каждом каталоге создаются по два подкаталога, в соответсвии с названиями классов: crocodile и clock. \n",
    "\n",
    "Изображения переписваются из исходного каталога в новую структуру. По-умолчанию для обучения используется 70% изображений, для проверки - 15%, для тестрования также 15%. "
   ]
  },
  {
   "cell_type": "code",
   "execution_count": 1,
   "metadata": {
    "colab": {
     "autoexec": {
      "startup": false,
      "wait_interval": 0
     }
    },
    "colab_type": "code",
    "id": "icKktyE2DA8d"
   },
   "outputs": [],
   "source": [
    "import shutil\n",
    "import os"
   ]
  },
  {
   "cell_type": "code",
   "execution_count": 91,
   "metadata": {
    "colab": {
     "autoexec": {
      "startup": false,
      "wait_interval": 0
     }
    },
    "colab_type": "code",
    "id": "Y4YS0fDTDA8q"
   },
   "outputs": [],
   "source": [
    "# Каталог с набором данных\n",
    "data_dir = './clocks_crocodiles'\n",
    "# Каталог с данными для обучения\n",
    "train_dir = './data/train'\n",
    "# Каталог с данными для проверки\n",
    "val_dir = './data/val'\n",
    "# Каталог с данными для тестирования\n",
    "test_dir = './data/test'\n",
    "# Часть набора данных для тестирования\n",
    "test_data_portion = 0.15\n",
    "# Часть набора данных для проверки\n",
    "val_data_portion = 0.15\n",
    "# Количество элементов данных в одном классе\n",
    "nb_images = 500"
   ]
  },
  {
   "cell_type": "markdown",
   "metadata": {
    "colab_type": "text",
    "id": "xMHZXMjcDA8z"
   },
   "source": [
    "Функция создания каталога с двумя подкаталогами по названию классов: clock и crocodile"
   ]
  },
  {
   "cell_type": "code",
   "execution_count": 82,
   "metadata": {
    "colab": {
     "autoexec": {
      "startup": false,
      "wait_interval": 0
     }
    },
    "colab_type": "code",
    "id": "zFXnploKDA81"
   },
   "outputs": [],
   "source": [
    "def create_directory(dir_name):\n",
    "    if os.path.exists(dir_name):\n",
    "        shutil.rmtree(dir_name)\n",
    "    os.makedirs(dir_name)\n",
    "    os.makedirs(os.path.join(dir_name, \"clock\"))\n",
    "    os.makedirs(os.path.join(dir_name, \"crocodile\"))    "
   ]
  },
  {
   "cell_type": "markdown",
   "metadata": {
    "colab_type": "text",
    "id": "3buc5scPDA87"
   },
   "source": [
    "Создание структуры каталогов для обучающего, проверочного и тестового набора данных"
   ]
  },
  {
   "cell_type": "code",
   "execution_count": 83,
   "metadata": {
    "colab": {
     "autoexec": {
      "startup": false,
      "wait_interval": 0
     }
    },
    "colab_type": "code",
    "id": "eyHMyOpkDA8-"
   },
   "outputs": [],
   "source": [
    "create_directory(train_dir)\n",
    "create_directory(val_dir)\n",
    "create_directory(test_dir)"
   ]
  },
  {
   "cell_type": "markdown",
   "metadata": {},
   "source": [
    "Функция обзора директории, чтобы получить список файлов, из которых мы будем вытягивать изображения."
   ]
  },
  {
   "cell_type": "code",
   "execution_count": 84,
   "metadata": {},
   "outputs": [],
   "source": [
    "from collections import defaultdict\n",
    "import os\n",
    "def ls_scan_path(path='.'):\n",
    "    \"\"\"\n",
    "    Get ENTRIES, DIRS, FILES and EXTS objects from the directory.\n",
    "    ENTRIES - list of entries names\n",
    "    DIRS    - list of tuples (directory_name, directory_size)\n",
    "    FILES   - list of tuples (file_name, file_size)\n",
    "    EXTS    - defaultdict with file extension strings as keys and dictionary as values\n",
    "                EXTS[ext]['sizes'] - get sum of sizes of files with that extension.\n",
    "                EXTS[ext]['files'] - a list of tuples (file_name, file_size) with that extension.\n",
    "    \"\"\"\n",
    "\n",
    "    entries = [name for name in os.listdir(path)]\n",
    "\n",
    "    files, dirs = [], []\n",
    "    tree = lambda: defaultdict(tree)\n",
    "    exts = tree()\n",
    "    # Divide entries into files and directories, also filling exts dictionary\n",
    "    for entry in entries:\n",
    "        entry_path = os.path.join(path, entry)                  # Get entry path to use\n",
    "        entry_size = os.path.getsize(entry_path)                # Get entry size\n",
    "        entry_tuple = (entry, entry_size)                       # Create tuple for better use\n",
    "\n",
    "        if os.path.isfile(entry_path):                          # If entry is a file\n",
    "            files.append(entry_tuple)\n",
    "\n",
    "            # Update extension dictionary\n",
    "            filename = os.path.basename(entry_path)             # Get filename\n",
    "            extension = os.path.splitext(entry_path)[1]         # get extension\n",
    "            if filename[0] == '.':                              # For hidden files\n",
    "                extension = 'Hidden'\n",
    "            elif extension == '':                               # For files with no extension\n",
    "                extension = 'None'\n",
    "            exts[extension]['files'] = exts[extension].get('files', []) + [entry_tuple]\n",
    "            exts[extension]['sizes'] = exts[extension].get('sizes', 0) + os.path.getsize(entry_path)\n",
    "\n",
    "        elif os.path.isdir(entry_path):                         # If entry is a directory\n",
    "            dirs.append(entry_tuple)\n",
    "            extension = 'Directory'\n",
    "            exts[extension]['files'] = exts[extension].get('files', []) + [entry_tuple]\n",
    "            exts[extension]['sizes'] = exts[extension].get('sizes', 0) + os.path.getsize(entry_path)\n",
    "\n",
    "    # Return everything\n",
    "    return entries, dirs, files, exts"
   ]
  },
  {
   "cell_type": "markdown",
   "metadata": {},
   "source": [
    "Используем эту функцию, чтобы переименовать все файлы из датасета в формат `class.number.jpg`. Для начала напишем ещё одну, чтобы быстро переименовывать папки."
   ]
  },
  {
   "cell_type": "code",
   "execution_count": 85,
   "metadata": {},
   "outputs": [],
   "source": [
    "def rename_all_in_dir(classname):\n",
    "    class_dir = os.path.join(data_dir, classname)\n",
    "    entries, dirs, files, exts = ls_scan_path(class_dir)\n",
    "\n",
    "    for idx, file in enumerate(files):\n",
    "        os.rename(os.path.join(class_dir, file[0]), \n",
    "                  os.path.join(class_dir, '{}.{}.png'.format(classname, idx)))"
   ]
  },
  {
   "cell_type": "code",
   "execution_count": 86,
   "metadata": {},
   "outputs": [
    {
     "name": "stdout",
     "output_type": "stream",
     "text": [
      "0 9\n",
      "1 8\n",
      "2 7\n"
     ]
    }
   ],
   "source": [
    "rename_all_in_dir('clock')\n",
    "rename_all_in_dir('crocodile')\n",
    "\n",
    "for i, j in enumerate([9,8,7]):\n",
    "    print(i, j)"
   ]
  },
  {
   "cell_type": "markdown",
   "metadata": {
    "colab_type": "text",
    "id": "T-Ib5pLtDA9G"
   },
   "source": [
    "Функция копирования изображений в заданный каталог. Изображения часов и крокодилов копируются в отдельные подкаталоги"
   ]
  },
  {
   "cell_type": "code",
   "execution_count": 87,
   "metadata": {
    "colab": {
     "autoexec": {
      "startup": false,
      "wait_interval": 0
     }
    },
    "colab_type": "code",
    "id": "FFf0USM0DA9H"
   },
   "outputs": [],
   "source": [
    "def copy_images(start_index, end_index, source_dir, dest_dir):\n",
    "    clock_dir = os.path.join(data_dir, 'clock')\n",
    "    croc_dir = os.path.join(data_dir, 'crocodile')\n",
    "    \n",
    "    for i in range(start_index, end_index):\n",
    "        shutil.copy2(os.path.join(clock_dir, \"clock.\" + str(i) + \".png\"), \n",
    "                    os.path.join(dest_dir, \"clock\"))\n",
    "        shutil.copy2(os.path.join(croc_dir, \"crocodile.\" + str(i) + \".png\"), \n",
    "                   os.path.join(dest_dir, \"crocodile\"))"
   ]
  },
  {
   "cell_type": "markdown",
   "metadata": {
    "colab_type": "text",
    "id": "X78IuVekDA9L"
   },
   "source": [
    "Расчет индексов наборов данных для обучения, приверки и тестирования"
   ]
  },
  {
   "cell_type": "code",
   "execution_count": 88,
   "metadata": {
    "colab": {
     "autoexec": {
      "startup": false,
      "wait_interval": 0
     },
     "base_uri": "https://localhost:8080/",
     "height": 51
    },
    "colab_type": "code",
    "executionInfo": {
     "elapsed": 627,
     "status": "ok",
     "timestamp": 1525197111593,
     "user": {
      "displayName": "Николай Евгеньевич Гайдученко",
      "photoUrl": "//lh6.googleusercontent.com/-riPpACBFhx8/AAAAAAAAAAI/AAAAAAAAADU/svlA8H3foqc/s50-c-k-no/photo.jpg",
      "userId": "107007743373121211870"
     },
     "user_tz": -180
    },
    "id": "kmfEl_y7DA9N",
    "outputId": "5802589e-6bfd-465c-fc47-7fbf28c7c129"
   },
   "outputs": [
    {
     "name": "stdout",
     "output_type": "stream",
     "text": [
      "350\n",
      "425\n"
     ]
    }
   ],
   "source": [
    "start_val_data_idx = int(nb_images * (1 - val_data_portion - test_data_portion))\n",
    "start_test_data_idx = int(nb_images * (1 - test_data_portion))\n",
    "print(start_val_data_idx)\n",
    "print(start_test_data_idx)               \n"
   ]
  },
  {
   "cell_type": "code",
   "execution_count": 89,
   "metadata": {
    "colab": {
     "autoexec": {
      "startup": false,
      "wait_interval": 0
     }
    },
    "colab_type": "code",
    "id": "Mmcrx_Xe1SSf"
   },
   "outputs": [
    {
     "name": "stdout",
     "output_type": "stream",
     "text": [
      "Samsung Tasks.pdf         clocks_crocodiles.rar     example.ipynb\r\n",
      "\u001b[1m\u001b[34mclocks_crocodiles\u001b[m\u001b[m         \u001b[1m\u001b[34mdata\u001b[m\u001b[m\r\n",
      "\u001b[1m\u001b[34mclocks_crocodiles-1\u001b[m\u001b[m       dataset_preparation.ipynb\r\n"
     ]
    }
   ],
   "source": [
    "!ls "
   ]
  },
  {
   "cell_type": "markdown",
   "metadata": {
    "colab_type": "text",
    "id": "QWIpEcLUDA9a"
   },
   "source": [
    "Копирование изображений"
   ]
  },
  {
   "cell_type": "code",
   "execution_count": 90,
   "metadata": {
    "colab": {
     "autoexec": {
      "startup": false,
      "wait_interval": 0
     },
     "base_uri": "https://localhost:8080/",
     "height": 555
    },
    "colab_type": "code",
    "executionInfo": {
     "elapsed": 664,
     "status": "error",
     "timestamp": 1525197114433,
     "user": {
      "displayName": "Николай Евгеньевич Гайдученко",
      "photoUrl": "//lh6.googleusercontent.com/-riPpACBFhx8/AAAAAAAAAAI/AAAAAAAAADU/svlA8H3foqc/s50-c-k-no/photo.jpg",
      "userId": "107007743373121211870"
     },
     "user_tz": -180
    },
    "id": "UinjlkeKDA9d",
    "outputId": "028cb6f6-86d4-48c4-aa0f-cefc591b5127"
   },
   "outputs": [],
   "source": [
    "copy_images(0, start_val_data_idx, data_dir, train_dir)\n",
    "copy_images(start_val_data_idx, start_test_data_idx, data_dir, val_dir)\n",
    "copy_images(start_test_data_idx, nb_images, data_dir, test_dir)"
   ]
  },
  {
   "cell_type": "code",
   "execution_count": null,
   "metadata": {
    "colab": {
     "autoexec": {
      "startup": false,
      "wait_interval": 0
     }
    },
    "colab_type": "code",
    "id": "YEfKCSEXDA9i"
   },
   "outputs": [],
   "source": []
  }
 ],
 "metadata": {
  "colab": {
   "collapsed_sections": [],
   "default_view": {},
   "name": "dataset_preparation.ipynb",
   "provenance": [],
   "version": "0.3.2",
   "views": {}
  },
  "kernelspec": {
   "display_name": "Python 3",
   "language": "python",
   "name": "python3"
  },
  "language_info": {
   "codemirror_mode": {
    "name": "ipython",
    "version": 3
   },
   "file_extension": ".py",
   "mimetype": "text/x-python",
   "name": "python",
   "nbconvert_exporter": "python",
   "pygments_lexer": "ipython3",
   "version": "3.6.5"
  }
 },
 "nbformat": 4,
 "nbformat_minor": 1
}
