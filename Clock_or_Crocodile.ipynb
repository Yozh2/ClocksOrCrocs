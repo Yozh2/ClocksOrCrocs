{
  "nbformat": 4,
  "nbformat_minor": 0,
  "metadata": {
    "colab": {
      "name": "Clock_or_Crocodile.ipynb",
      "version": "0.3.2",
      "provenance": [],
      "collapsed_sections": []
    },
    "kernelspec": {
      "display_name": "Python [conda env:tensorflow]",
      "language": "python",
      "name": "conda-env-tensorflow-py"
    }
  },
  "cells": [
    {
      "cell_type": "markdown",
      "metadata": {
        "id": "view-in-github",
        "colab_type": "text"
      },
      "source": [
        "[View in Colaboratory](https://colab.research.google.com/github/Yozh2/ClocksOrCrocs/blob/master/Clock_or_Crocodile.ipynb)"
      ]
    },
    {
      "metadata": {
        "id": "G1TWpbFA_p8v",
        "colab_type": "text"
      },
      "cell_type": "markdown",
      "source": [
        "# Распознавание часов и крокодилов на изображениях с помощью предварительно обученной нейронной сети VGG16\n",
        "\n",
        "**Источник данных** - [Архив с изображениями](https://drive.google.com/file/d/1JbYmH50iRkMorFk0xNCnwC9xKiB60Mlq/view?usp=sharing), полученный по почте.\n",
        "\n",
        "Для распознавания используется предварительно обученная сверточная нейронная сеть VGG16.\n"
      ]
    },
    {
      "metadata": {
        "id": "X8AV5KvP_p8x",
        "colab_type": "code",
        "colab": {}
      },
      "cell_type": "code",
      "source": [
        "import os\n",
        "from tensorflow.python.keras.preprocessing.image import ImageDataGenerator\n",
        "from tensorflow.python.keras.models import Sequential\n",
        "from tensorflow.python.keras.layers import Activation, Dropout, Flatten, Dense\n",
        "from tensorflow.python.keras.applications import VGG16\n",
        "from tensorflow.python.keras.optimizers import Adam"
      ],
      "execution_count": 0,
      "outputs": []
    },
    {
      "metadata": {
        "id": "wFvEMeXZBGAr",
        "colab_type": "text"
      },
      "cell_type": "markdown",
      "source": [
        "\n",
        "Перед использованием данных, их необходимо разбить на обучающую, проверочную и тестовую выборки. Делается это при помощи скрипта `data_preparation`"
      ]
    },
    {
      "metadata": {
        "id": "J6lp0GPJ_p86",
        "colab_type": "code",
        "colab": {}
      },
      "cell_type": "code",
      "source": [
        "# Каталог с данными для обучения\n",
        "train_dir = './train'\n",
        "# Каталог с данными для проверки\n",
        "val_dir = './val'\n",
        "# Каталог с данными для тестирования\n",
        "test_dir = './test'\n",
        "# Размеры изображения\n",
        "img_width, img_height = 150, 150\n",
        "# Размерность тензора на основе изображения для входных данных в нейронную сеть\n",
        "# backend Tensorflow, channels_last\n",
        "input_shape = (img_width, img_height, 3)\n",
        "# Размер мини-выборки\n",
        "batch_size = 64\n",
        "# Количество изображений для обучения\n",
        "nb_train_samples = 350\n",
        "# Количество изображений для проверки\n",
        "nb_validation_samples = 75\n",
        "# Количество изображений для тестирования\n",
        "nb_test_samples = 75"
      ],
      "execution_count": 0,
      "outputs": []
    },
    {
      "metadata": {
        "id": "8JmTZQ4QwiSr",
        "colab_type": "text"
      },
      "cell_type": "markdown",
      "source": [
        "Подкачиваем файлы с датасетом из [GitHub](https://github.com/Yozh2/ClocksOrCrocs/tree/master/data)"
      ]
    },
    {
      "metadata": {
        "id": "MBJjM0FC0aAP",
        "colab_type": "code",
        "colab": {
          "base_uri": "https://localhost:8080/",
          "height": 34
        },
        "outputId": "4daf5ad4-2d91-44f4-b9e3-0b7ea2a72121"
      },
      "cell_type": "code",
      "source": [
        "import os\n",
        "git_dir = '/content/ClocksOrCrocs'\n",
        "os.chdir(git_dir)\n",
        "!git pull\n",
        "\n",
        "# Переносимся в папку data\n",
        "os.chdir(os.path.join(git_dir, 'data'))"
      ],
      "execution_count": 77,
      "outputs": [
        {
          "output_type": "stream",
          "text": [
            "Already up-to-date.\r\n"
          ],
          "name": "stdout"
        }
      ]
    },
    {
      "metadata": {
        "id": "ybhg6Alw_p9A",
        "colab_type": "text"
      },
      "cell_type": "markdown",
      "source": [
        "## Загружаем предварительно обученную нейронную сеть"
      ]
    },
    {
      "metadata": {
        "id": "m47zM99-_p9C",
        "colab_type": "code",
        "colab": {}
      },
      "cell_type": "code",
      "source": [
        "vgg16_net = VGG16(weights='imagenet', include_top=False, input_shape=(img_height, img_width, 3))"
      ],
      "execution_count": 0,
      "outputs": []
    },
    {
      "metadata": {
        "id": "4d6gAmdh_p9H",
        "colab_type": "text"
      },
      "cell_type": "markdown",
      "source": [
        "\"Замораживаем\" веса предварительно обученной нейронной сети VGG16"
      ]
    },
    {
      "metadata": {
        "id": "-Zdg398T_p9K",
        "colab_type": "code",
        "colab": {}
      },
      "cell_type": "code",
      "source": [
        "vgg16_net.trainable = False"
      ],
      "execution_count": 0,
      "outputs": []
    },
    {
      "metadata": {
        "id": "KdBmqWUy_p9T",
        "colab_type": "code",
        "colab": {
          "base_uri": "https://localhost:8080/",
          "height": 782
        },
        "outputId": "2801e059-7465-47f3-c1f7-58c47cee95d1"
      },
      "cell_type": "code",
      "source": [
        "vgg16_net.summary()"
      ],
      "execution_count": 70,
      "outputs": [
        {
          "output_type": "stream",
          "text": [
            "_________________________________________________________________\n",
            "Layer (type)                 Output Shape              Param #   \n",
            "=================================================================\n",
            "input_3 (InputLayer)         (None, 150, 150, 3)       0         \n",
            "_________________________________________________________________\n",
            "block1_conv1 (Conv2D)        (None, 150, 150, 64)      1792      \n",
            "_________________________________________________________________\n",
            "block1_conv2 (Conv2D)        (None, 150, 150, 64)      36928     \n",
            "_________________________________________________________________\n",
            "block1_pool (MaxPooling2D)   (None, 75, 75, 64)        0         \n",
            "_________________________________________________________________\n",
            "block2_conv1 (Conv2D)        (None, 75, 75, 128)       73856     \n",
            "_________________________________________________________________\n",
            "block2_conv2 (Conv2D)        (None, 75, 75, 128)       147584    \n",
            "_________________________________________________________________\n",
            "block2_pool (MaxPooling2D)   (None, 37, 37, 128)       0         \n",
            "_________________________________________________________________\n",
            "block3_conv1 (Conv2D)        (None, 37, 37, 256)       295168    \n",
            "_________________________________________________________________\n",
            "block3_conv2 (Conv2D)        (None, 37, 37, 256)       590080    \n",
            "_________________________________________________________________\n",
            "block3_conv3 (Conv2D)        (None, 37, 37, 256)       590080    \n",
            "_________________________________________________________________\n",
            "block3_pool (MaxPooling2D)   (None, 18, 18, 256)       0         \n",
            "_________________________________________________________________\n",
            "block4_conv1 (Conv2D)        (None, 18, 18, 512)       1180160   \n",
            "_________________________________________________________________\n",
            "block4_conv2 (Conv2D)        (None, 18, 18, 512)       2359808   \n",
            "_________________________________________________________________\n",
            "block4_conv3 (Conv2D)        (None, 18, 18, 512)       2359808   \n",
            "_________________________________________________________________\n",
            "block4_pool (MaxPooling2D)   (None, 9, 9, 512)         0         \n",
            "_________________________________________________________________\n",
            "block5_conv1 (Conv2D)        (None, 9, 9, 512)         2359808   \n",
            "_________________________________________________________________\n",
            "block5_conv2 (Conv2D)        (None, 9, 9, 512)         2359808   \n",
            "_________________________________________________________________\n",
            "block5_conv3 (Conv2D)        (None, 9, 9, 512)         2359808   \n",
            "_________________________________________________________________\n",
            "block5_pool (MaxPooling2D)   (None, 4, 4, 512)         0         \n",
            "=================================================================\n",
            "Total params: 14,714,688\n",
            "Trainable params: 0\n",
            "Non-trainable params: 14,714,688\n",
            "_________________________________________________________________\n"
          ],
          "name": "stdout"
        }
      ]
    },
    {
      "metadata": {
        "id": "uDo3kRHl_p9h",
        "colab_type": "text"
      },
      "cell_type": "markdown",
      "source": [
        "## Создаем составную нейронную сеть на основе VGG16"
      ]
    },
    {
      "metadata": {
        "id": "UR1eajjL_p9i",
        "colab_type": "code",
        "colab": {}
      },
      "cell_type": "code",
      "source": [
        "model = Sequential()\n",
        "# Добавляем в модель сеть VGG16 вместо слоя\n",
        "model.add(vgg16_net)\n",
        "model.add(Flatten())\n",
        "model.add(Dense(256))\n",
        "model.add(Activation('relu'))\n",
        "model.add(Dropout(0.5))\n",
        "model.add(Dense(1))\n",
        "model.add(Activation('sigmoid'))"
      ],
      "execution_count": 0,
      "outputs": []
    },
    {
      "metadata": {
        "id": "rVxyuFMm_p9m",
        "colab_type": "code",
        "colab": {
          "base_uri": "https://localhost:8080/",
          "height": 374
        },
        "outputId": "8bcfd6f5-34d1-4ccb-bc14-6c74a0d8708e"
      },
      "cell_type": "code",
      "source": [
        "model.summary()"
      ],
      "execution_count": 72,
      "outputs": [
        {
          "output_type": "stream",
          "text": [
            "_________________________________________________________________\n",
            "Layer (type)                 Output Shape              Param #   \n",
            "=================================================================\n",
            "vgg16 (Model)                (None, 4, 4, 512)         14714688  \n",
            "_________________________________________________________________\n",
            "flatten_2 (Flatten)          (None, 8192)              0         \n",
            "_________________________________________________________________\n",
            "dense_3 (Dense)              (None, 256)               2097408   \n",
            "_________________________________________________________________\n",
            "activation_3 (Activation)    (None, 256)               0         \n",
            "_________________________________________________________________\n",
            "dropout_2 (Dropout)          (None, 256)               0         \n",
            "_________________________________________________________________\n",
            "dense_4 (Dense)              (None, 1)                 257       \n",
            "_________________________________________________________________\n",
            "activation_4 (Activation)    (None, 1)                 0         \n",
            "=================================================================\n",
            "Total params: 16,812,353\n",
            "Trainable params: 2,097,665\n",
            "Non-trainable params: 14,714,688\n",
            "_________________________________________________________________\n"
          ],
          "name": "stdout"
        }
      ]
    },
    {
      "metadata": {
        "id": "E6nb8vbo_p9t",
        "colab_type": "text"
      },
      "cell_type": "markdown",
      "source": [
        "Компилируем составную нейронную сеть"
      ]
    },
    {
      "metadata": {
        "id": "tEuDhc6__p9v",
        "colab_type": "code",
        "colab": {}
      },
      "cell_type": "code",
      "source": [
        "model.compile(loss='binary_crossentropy',\n",
        "              optimizer=Adam(lr=1e-5), \n",
        "              metrics=['accuracy'])"
      ],
      "execution_count": 0,
      "outputs": []
    },
    {
      "metadata": {
        "id": "cGtVJia0_p90",
        "colab_type": "text"
      },
      "cell_type": "markdown",
      "source": [
        "## Создаем генератор изображений\n",
        "\n",
        "Генератор изображений создается на основе класса ImageDataGenerator. Генератор делит значения всех пикселов изображения на 255."
      ]
    },
    {
      "metadata": {
        "id": "r2LbNaFa_p91",
        "colab_type": "code",
        "colab": {}
      },
      "cell_type": "code",
      "source": [
        "datagen = ImageDataGenerator(rescale=1. / 255)\n"
      ],
      "execution_count": 0,
      "outputs": []
    },
    {
      "metadata": {
        "id": "cRRTR7zN_p94",
        "colab_type": "text"
      },
      "cell_type": "markdown",
      "source": [
        "Генератор данных для обучения на основе изображений из каталога"
      ]
    },
    {
      "metadata": {
        "id": "ryLwP6gIvwrI",
        "colab_type": "code",
        "colab": {
          "base_uri": "https://localhost:8080/",
          "height": 34
        },
        "outputId": "ced48cd5-b2f3-46a0-c380-256abac0495a"
      },
      "cell_type": "code",
      "source": [
        "!ls "
      ],
      "execution_count": 78,
      "outputs": [
        {
          "output_type": "stream",
          "text": [
            "test  train  val\r\n"
          ],
          "name": "stdout"
        }
      ]
    },
    {
      "metadata": {
        "id": "uxGw9gLI_p96",
        "colab_type": "code",
        "colab": {
          "base_uri": "https://localhost:8080/",
          "height": 34
        },
        "outputId": "020a422d-f24d-4e76-f72c-6cb9f664c4dc"
      },
      "cell_type": "code",
      "source": [
        "train_generator = datagen.flow_from_directory(\n",
        "    train_dir,\n",
        "    target_size=(img_width, img_height),\n",
        "    batch_size=batch_size,\n",
        "    class_mode='binary')"
      ],
      "execution_count": 79,
      "outputs": [
        {
          "output_type": "stream",
          "text": [
            "Found 700 images belonging to 2 classes.\n"
          ],
          "name": "stdout"
        }
      ]
    },
    {
      "metadata": {
        "id": "SiPehQRu_p9_",
        "colab_type": "text"
      },
      "cell_type": "markdown",
      "source": [
        "Генератор данных для проверки на основе изображений из каталога"
      ]
    },
    {
      "metadata": {
        "id": "vxYmEHNR_p-A",
        "colab_type": "code",
        "colab": {
          "base_uri": "https://localhost:8080/",
          "height": 34
        },
        "outputId": "858b964c-be14-454d-f9f9-475e88db366a"
      },
      "cell_type": "code",
      "source": [
        "val_generator = datagen.flow_from_directory(\n",
        "    val_dir,\n",
        "    target_size=(img_width, img_height),\n",
        "    batch_size=batch_size,\n",
        "    class_mode='binary')\n"
      ],
      "execution_count": 80,
      "outputs": [
        {
          "output_type": "stream",
          "text": [
            "Found 150 images belonging to 2 classes.\n"
          ],
          "name": "stdout"
        }
      ]
    },
    {
      "metadata": {
        "id": "to54xq5V_p-E",
        "colab_type": "text"
      },
      "cell_type": "markdown",
      "source": [
        "Генератор данных для тестирования на основе изображений из каталога"
      ]
    },
    {
      "metadata": {
        "id": "n8M9S18p_p-F",
        "colab_type": "code",
        "colab": {
          "base_uri": "https://localhost:8080/",
          "height": 34
        },
        "outputId": "e9c12023-7cbe-42d1-abc2-a2ec36b706db"
      },
      "cell_type": "code",
      "source": [
        "test_generator = datagen.flow_from_directory(\n",
        "    test_dir,\n",
        "    target_size=(img_width, img_height),\n",
        "    batch_size=batch_size,\n",
        "    class_mode='binary')"
      ],
      "execution_count": 81,
      "outputs": [
        {
          "output_type": "stream",
          "text": [
            "Found 150 images belonging to 2 classes.\n"
          ],
          "name": "stdout"
        }
      ]
    },
    {
      "metadata": {
        "id": "ch9FwDl-_p-J",
        "colab_type": "text"
      },
      "cell_type": "markdown",
      "source": [
        "## Обучаем модель с использованием генераторов\n",
        "\n",
        "train_generator - генератор данных для обучения\n",
        "\n",
        "validation_data - генератор данных для проверки"
      ]
    },
    {
      "metadata": {
        "id": "uRUqXyOk_p-J",
        "colab_type": "code",
        "colab": {
          "base_uri": "https://localhost:8080/",
          "height": 374
        },
        "outputId": "62599ade-8847-4417-fdea-d77da28ac966"
      },
      "cell_type": "code",
      "source": [
        "model.fit_generator(\n",
        "    train_generator,\n",
        "    steps_per_epoch=nb_train_samples // batch_size,\n",
        "    epochs=10,\n",
        "    validation_data=val_generator,\n",
        "    validation_steps=nb_validation_samples // batch_size)"
      ],
      "execution_count": 82,
      "outputs": [
        {
          "output_type": "stream",
          "text": [
            "Epoch 1/10\n",
            "5/5 [==============================] - 95s 19s/step - loss: 0.8045 - acc: 0.4813 - val_loss: 0.6651 - val_acc: 0.6406\n",
            "Epoch 2/10\n",
            "5/5 [==============================] - 90s 18s/step - loss: 0.6939 - acc: 0.5800 - val_loss: 0.6147 - val_acc: 0.7188\n",
            "Epoch 3/10\n",
            "5/5 [==============================] - 81s 16s/step - loss: 0.6492 - acc: 0.6250 - val_loss: 0.5420 - val_acc: 0.7727\n",
            "Epoch 4/10\n",
            "5/5 [==============================] - 90s 18s/step - loss: 0.6395 - acc: 0.6461 - val_loss: 0.5560 - val_acc: 0.8438\n",
            "Epoch 5/10\n",
            "5/5 [==============================] - 90s 18s/step - loss: 0.6044 - acc: 0.6743 - val_loss: 0.4888 - val_acc: 0.9375\n",
            "Epoch 6/10\n",
            "5/5 [==============================] - 82s 16s/step - loss: 0.5515 - acc: 0.7344 - val_loss: 0.4391 - val_acc: 0.9091\n",
            "Epoch 7/10\n",
            "5/5 [==============================] - 90s 18s/step - loss: 0.5222 - acc: 0.7465 - val_loss: 0.4464 - val_acc: 0.8906\n",
            "Epoch 8/10\n",
            "5/5 [==============================] - 91s 18s/step - loss: 0.5005 - acc: 0.7656 - val_loss: 0.4267 - val_acc: 0.8906\n",
            "Epoch 9/10\n",
            "5/5 [==============================] - 81s 16s/step - loss: 0.4503 - acc: 0.8227 - val_loss: 0.3955 - val_acc: 0.9091\n",
            "Epoch 10/10\n",
            "5/5 [==============================] - 91s 18s/step - loss: 0.4603 - acc: 0.8156 - val_loss: 0.4054 - val_acc: 0.8750\n"
          ],
          "name": "stdout"
        },
        {
          "output_type": "execute_result",
          "data": {
            "text/plain": [
              "<tensorflow.python.keras._impl.keras.callbacks.History at 0x7fc66196d910>"
            ]
          },
          "metadata": {
            "tags": []
          },
          "execution_count": 82
        }
      ]
    },
    {
      "metadata": {
        "id": "S-mez4zv_p-Q",
        "colab_type": "text"
      },
      "cell_type": "markdown",
      "source": [
        "## Оцениваем качество работы сети с помощью генератора"
      ]
    },
    {
      "metadata": {
        "id": "DyjVqYB6_p-Q",
        "colab_type": "code",
        "colab": {}
      },
      "cell_type": "code",
      "source": [
        "scores = model.evaluate_generator(test_generator, nb_test_samples // batch_size)"
      ],
      "execution_count": 0,
      "outputs": []
    },
    {
      "metadata": {
        "id": "ld1llXYf_p-S",
        "colab_type": "code",
        "colab": {
          "base_uri": "https://localhost:8080/",
          "height": 34
        },
        "outputId": "9bd2f419-5429-46b1-a632-6280313db3ee"
      },
      "cell_type": "code",
      "source": [
        "print(\"Аккуратность на тестовых данных: %.2f%%\" % (scores[1]*100))"
      ],
      "execution_count": 84,
      "outputs": [
        {
          "output_type": "stream",
          "text": [
            "Аккуратность на тестовых данных: 87.50%\n"
          ],
          "name": "stdout"
        }
      ]
    },
    {
      "metadata": {
        "id": "kuQWobD0_p-X",
        "colab_type": "text"
      },
      "cell_type": "markdown",
      "source": [
        "# Тонкая настройка сети (fine tuning)"
      ]
    },
    {
      "metadata": {
        "id": "bNfs595A_p-Y",
        "colab_type": "text"
      },
      "cell_type": "markdown",
      "source": [
        "\"Размораживаем\" последний сверточный блок сети VGG16"
      ]
    },
    {
      "metadata": {
        "id": "34d_-e51_p-Z",
        "colab_type": "code",
        "colab": {}
      },
      "cell_type": "code",
      "source": [
        "vgg16_net.trainable = True\n",
        "trainable = False\n",
        "for layer in vgg16_net.layers:\n",
        "    if layer.name == 'block5_conv1':\n",
        "        trainable = True\n",
        "    layer.trainable = trainable    "
      ],
      "execution_count": 0,
      "outputs": []
    },
    {
      "metadata": {
        "id": "W49ya9W1_p-d",
        "colab_type": "code",
        "colab": {
          "base_uri": "https://localhost:8080/",
          "height": 374
        },
        "outputId": "c6f48a9e-587c-4cb0-9ebf-3be6ecaea41e"
      },
      "cell_type": "code",
      "source": [
        "# Проверяем количество обучаемых параметров\n",
        "model.summary()"
      ],
      "execution_count": 86,
      "outputs": [
        {
          "output_type": "stream",
          "text": [
            "_________________________________________________________________\n",
            "Layer (type)                 Output Shape              Param #   \n",
            "=================================================================\n",
            "vgg16 (Model)                (None, 4, 4, 512)         14714688  \n",
            "_________________________________________________________________\n",
            "flatten_2 (Flatten)          (None, 8192)              0         \n",
            "_________________________________________________________________\n",
            "dense_3 (Dense)              (None, 256)               2097408   \n",
            "_________________________________________________________________\n",
            "activation_3 (Activation)    (None, 256)               0         \n",
            "_________________________________________________________________\n",
            "dropout_2 (Dropout)          (None, 256)               0         \n",
            "_________________________________________________________________\n",
            "dense_4 (Dense)              (None, 1)                 257       \n",
            "_________________________________________________________________\n",
            "activation_4 (Activation)    (None, 1)                 0         \n",
            "=================================================================\n",
            "Total params: 16,812,353\n",
            "Trainable params: 9,177,089\n",
            "Non-trainable params: 7,635,264\n",
            "_________________________________________________________________\n"
          ],
          "name": "stdout"
        }
      ]
    },
    {
      "metadata": {
        "id": "uB9PE2pA_p-h",
        "colab_type": "code",
        "colab": {}
      },
      "cell_type": "code",
      "source": [
        "model.compile(loss='binary_crossentropy',\n",
        "              optimizer=Adam(lr=1e-5), \n",
        "              metrics=['accuracy'])"
      ],
      "execution_count": 0,
      "outputs": []
    },
    {
      "metadata": {
        "id": "bNPfC6pJ_p-j",
        "colab_type": "code",
        "colab": {
          "base_uri": "https://localhost:8080/",
          "height": 102
        },
        "outputId": "f7333ee1-c584-4324-b75f-c9c5bdbe439b"
      },
      "cell_type": "code",
      "source": [
        "model.fit_generator(\n",
        "    train_generator,\n",
        "    steps_per_epoch=nb_train_samples // batch_size,\n",
        "    epochs=2,\n",
        "    validation_data=val_generator,\n",
        "    validation_steps=nb_validation_samples // batch_size)"
      ],
      "execution_count": 88,
      "outputs": [
        {
          "output_type": "stream",
          "text": [
            "Epoch 1/2\n",
            "5/5 [==============================] - 105s 21s/step - loss: 0.4070 - acc: 0.8312 - val_loss: 0.3167 - val_acc: 0.9219\n",
            "Epoch 2/2\n",
            "5/5 [==============================] - 104s 21s/step - loss: 0.3108 - acc: 0.8986 - val_loss: 0.2385 - val_acc: 0.9062\n"
          ],
          "name": "stdout"
        },
        {
          "output_type": "execute_result",
          "data": {
            "text/plain": [
              "<tensorflow.python.keras._impl.keras.callbacks.History at 0x7fc66232c3d0>"
            ]
          },
          "metadata": {
            "tags": []
          },
          "execution_count": 88
        }
      ]
    },
    {
      "metadata": {
        "id": "WAlDiu5P_p-n",
        "colab_type": "code",
        "colab": {
          "base_uri": "https://localhost:8080/",
          "height": 34
        },
        "outputId": "1defb495-9d48-45b4-d091-fd0f53916025"
      },
      "cell_type": "code",
      "source": [
        "scores = model.evaluate_generator(test_generator, nb_test_samples // batch_size)\n",
        "print(\"Аккуратность на тестовых данных: %.2f%%\" % (scores[1]*100))"
      ],
      "execution_count": 89,
      "outputs": [
        {
          "output_type": "stream",
          "text": [
            "Аккуратность на тестовых данных: 92.19%\n"
          ],
          "name": "stdout"
        }
      ]
    },
    {
      "metadata": {
        "id": "3IvXcpfp_p-q",
        "colab_type": "code",
        "colab": {}
      },
      "cell_type": "code",
      "source": [
        ""
      ],
      "execution_count": 0,
      "outputs": []
    }
  ]
}